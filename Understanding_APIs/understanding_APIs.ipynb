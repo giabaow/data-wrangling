{
  "nbformat": 4,
  "nbformat_minor": 0,
  "metadata": {
    "colab": {
      "provenance": []
    },
    "kernelspec": {
      "name": "python3",
      "display_name": "Python 3"
    },
    "language_info": {
      "name": "python"
    }
  },
  "cells": [
    {
      "cell_type": "markdown",
      "source": [
        "Country: Hungary\n",
        "Capital: Budapest\n",
        "Current temperature at capital: 12.4 °C\n",
        "National currency: HUF\n",
        "USD/HUF: 356.82 HUF"
      ],
      "metadata": {
        "id": "p96_54546wSC"
      }
    },
    {
      "cell_type": "code",
      "source": [
        "BASE_URL1 = \"https://restcountries.com/v3.1/name/\""
      ],
      "metadata": {
        "id": "Ms9NJPjp7goL"
      },
      "execution_count": null,
      "outputs": []
    },
    {
      "cell_type": "code",
      "source": [
        "import requests"
      ],
      "metadata": {
        "id": "5ZOwESYb8IDr"
      },
      "execution_count": null,
      "outputs": []
    },
    {
      "cell_type": "code",
      "source": [
        "countries = [\"Hungary\", \"Austria\", \"Czech Republic\"]\n",
        "def get_country_data(country):\n",
        "  response = requests.get(BASE_URL1 + country)\n",
        "\n",
        "  if response.status_code == 200:\n",
        "    data = response.json()[0]\n",
        "    return {\n",
        "        \"name\": data.get(\"name\", \"{}\").get(\"common\", \"N/A\"),\n",
        "        \"capital\": data.get(\"capital\", \"[N/A]\"),\n",
        "        \"currency\": list(data.get(\"currencies\", {}).keys())[0]\n",
        "        if \"currencies\" in data else \"N/A\",\n",
        "        \"latlng\": data.get(\"capitalInfo\", {}).get(\"latlng\", [None, None])\n",
        "    }\n",
        "  else:\n",
        "    print(f\"Failed to fetch data for {country}. Status code: {response.status_code}\")\n",
        "    return None"
      ],
      "metadata": {
        "id": "yO-B_VBG7rSq"
      },
      "execution_count": null,
      "outputs": []
    },
    {
      "cell_type": "code",
      "source": [
        "country_data_list = [get_country_data(country) for country in countries]\n",
        "for country_data in country_data_list:\n",
        "  print(country_data)"
      ],
      "metadata": {
        "colab": {
          "base_uri": "https://localhost:8080/"
        },
        "id": "Oq2OZsDF_tld",
        "outputId": "5b63be0c-6f81-4852-dfd6-e9da26e7a1fe"
      },
      "execution_count": null,
      "outputs": [
        {
          "output_type": "stream",
          "name": "stdout",
          "text": [
            "{'name': 'Hungary', 'capital': ['Budapest'], 'currency': 'HUF', 'latlng': [47.5, 19.08]}\n",
            "{'name': 'Austria', 'capital': ['Vienna'], 'currency': 'EUR', 'latlng': [48.2, 16.37]}\n",
            "{'name': 'Czechia', 'capital': ['Prague'], 'currency': 'CZK', 'latlng': [50.08, 14.47]}\n"
          ]
        }
      ]
    },
    {
      "cell_type": "code",
      "source": [
        "def get_weather_data(lat, lon):\n",
        "  BASE_URL2 = f\"https://api.open-meteo.com/v1/forecast?latitude={lat}&longitude={lon}&current=temperature_2m\"\n",
        "  response = requests.get(BASE_URL2.format(lat=lat, lon=lon))\n",
        "\n",
        "  if response.status_code == 200:\n",
        "    data = response.json()\n",
        "    temp = data.get(\"current\", {}).get(\"temperature_2m\", \"N/A\")\n",
        "    temp_unit = data.get(\"current_units\", {}).get(\"temperature_2m\", \"N/A\")\n",
        "    return {\n",
        "            str(temp) + temp_unit\n",
        "    }\n",
        "  else:\n",
        "    print(f\"Failed to fetch weather data. Status code: {response.status_code}\")\n",
        "    return None"
      ],
      "metadata": {
        "id": "WPTktmFOAZtd"
      },
      "execution_count": null,
      "outputs": []
    },
    {
      "cell_type": "code",
      "source": [
        "weather_data_list = [get_weather_data(lat,lon) for (lat,lon) in (country_data.get(\"latlng\") for country_data in country_data_list)]\n",
        "print(weather_data_list)"
      ],
      "metadata": {
        "colab": {
          "base_uri": "https://localhost:8080/"
        },
        "id": "WyCBATDFD6Vk",
        "outputId": "d0948a31-b885-4881-f1f8-341c79bbb5f0"
      },
      "execution_count": null,
      "outputs": [
        {
          "output_type": "stream",
          "name": "stdout",
          "text": [
            "[{'7.4°C'}, {'6.2°C'}, {'8.6°C'}]\n"
          ]
        }
      ]
    },
    {
      "cell_type": "code",
      "source": [
        "BASE_URL3 = \"https://open.er-api.com/v6/latest/USD\""
      ],
      "metadata": {
        "id": "r8zSBj4RF2aU"
      },
      "execution_count": null,
      "outputs": []
    },
    {
      "cell_type": "code",
      "source": [
        "def get_exchange_rate(currency):\n",
        "  response = requests.get(BASE_URL3)\n",
        "\n",
        "  if response.status_code == 200:\n",
        "    data = response.json()\n",
        "    return data.get(\"rates\", {}).get(currency, \"N/A\")\n",
        "  else:\n",
        "    print(f\"Failed to fetch exchange rate data. Status code: {response.status_code}\")\n",
        "    return None"
      ],
      "metadata": {
        "id": "7RiGSlo9BHYT"
      },
      "execution_count": null,
      "outputs": []
    },
    {
      "cell_type": "code",
      "source": [
        "exchange_data_list = [get_exchange_rate(currency) for currency in (country_data.get(\"currency\") for country_data in country_data_list)]\n",
        "print(exchange_data_list)"
      ],
      "metadata": {
        "colab": {
          "base_uri": "https://localhost:8080/"
        },
        "id": "Y2aScYZ-CMUc",
        "outputId": "596329b6-cc74-49c5-c50f-f6a0ef4e0be5"
      },
      "execution_count": null,
      "outputs": [
        {
          "output_type": "stream",
          "name": "stdout",
          "text": [
            "[383.337233, 0.955274, 23.912087]\n"
          ]
        }
      ]
    },
    {
      "cell_type": "code",
      "source": [
        "for country_data in country_data_list:\n",
        "  if country_data:\n",
        "    lat, lon = country_data[\"latlng\"]\n",
        "    if lat is not None and lon is not None:\n",
        "      country_data[\"temperature\"] = get_weather_data(lat, lon)\n",
        "      currency = country_data[\"currency\"]\n",
        "      if currency != \"N/A\":\n",
        "        country_data[\"exchange_rate\"] = get_exchange_rate(currency)\n",
        "# Display the final dataset\n",
        "for country_data in country_data_list: print(country_data)"
      ],
      "metadata": {
        "colab": {
          "base_uri": "https://localhost:8080/"
        },
        "id": "l5PCkTCZBfUB",
        "outputId": "b3e647d5-e0cb-4e96-e902-150ce65ee72d"
      },
      "execution_count": null,
      "outputs": [
        {
          "output_type": "stream",
          "name": "stdout",
          "text": [
            "{'name': 'Hungary', 'capital': ['Budapest'], 'currency': 'HUF', 'latlng': [47.5, 19.08], 'temperature': {'7.1°C'}, 'exchange_rate': 383.337233}\n",
            "{'name': 'Austria', 'capital': ['Vienna'], 'currency': 'EUR', 'latlng': [48.2, 16.37], 'temperature': {'6.2°C'}, 'exchange_rate': 0.955274}\n",
            "{'name': 'Czechia', 'capital': ['Prague'], 'currency': 'CZK', 'latlng': [50.08, 14.47], 'temperature': {'8.2°C'}, 'exchange_rate': 23.912087}\n"
          ]
        }
      ]
    }
  ]
}